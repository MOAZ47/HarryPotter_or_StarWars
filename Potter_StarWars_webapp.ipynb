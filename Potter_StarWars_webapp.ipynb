{
 "cells": [
  {
   "cell_type": "code",
   "execution_count": 76,
   "id": "0473f879",
   "metadata": {},
   "outputs": [],
   "source": [
    "from ipywidgets import widgets\n",
    "import io\n",
    "#import librosa\n",
    "import xgboost \n",
    "from xgboost import XGBClassifier\n",
    "import numpy as np\n",
    "import torchaudio\n",
    "import pickle"
   ]
  },
  {
   "cell_type": "code",
   "execution_count": 77,
   "id": "da2add17",
   "metadata": {},
   "outputs": [],
   "source": [
    "model = XGBClassifier()\n",
    "model.load_model(\"Audio_XBG_model.pth\")"
   ]
  },
  {
   "cell_type": "markdown",
   "id": "49741e51",
   "metadata": {},
   "source": [
    "<h1><center>Harry Potter or Star Wars"
   ]
  },
  {
   "cell_type": "markdown",
   "id": "5e731d66",
   "metadata": {},
   "source": [
    "This web app based on machine learning is created to the classify a tune either as \"Harry Potter\" or \"Star Wars\". To do so, click the upload button below, and select the the audio file. "
   ]
  },
  {
   "cell_type": "code",
   "execution_count": 78,
   "id": "36c6ef51",
   "metadata": {},
   "outputs": [],
   "source": [
    "lbl_greet = widgets.Label('Select the Audio File')\n",
    "\n",
    "btn_upload = widgets.FileUpload()\n",
    "\n",
    "out_pl = widgets.Output()\n",
    "\n",
    "lbl_pred = widgets.Label()"
   ]
  },
  {
   "cell_type": "code",
   "execution_count": 79,
   "id": "f72f900b",
   "metadata": {},
   "outputs": [],
   "source": [
    "def on_data_change(change):\n",
    "    lbl_pred.value = ''\n",
    "    \n",
    "    \n",
    "    for name, file_info in btn_upload.value.items():\n",
    "        #audio, sample_rate = librosa.load(io.BytesIO(file_info['content']), res_type='kaiser_fast')\n",
    "        signal, sr = torchaudio.load(io.BytesIO(file_info['content']))\n",
    "    \"\"\"\n",
    "    #print('Uploaded audio')\n",
    "    def mfcc_extractor(file_, sample_rate):\n",
    "        mfccs_features = librosa.feature.mfcc(y=file_, sr=sample_rate, n_mfcc=64)\n",
    "        mfccs_scaled_features = np.mean(mfccs_features.T,axis=0)\n",
    "        return mfccs_scaled_features\n",
    "    \n",
    "    test_audio = mfcc_extractor(audio, sample_rate)\n",
    "    test_audio.shape = -1,64\n",
    "    \"\"\"\n",
    "    \n",
    "    out_pl.clear_output()\n",
    "    \n",
    "    SAMPLE_RATE = 22050\n",
    "    NFFT = 1024\n",
    "    HLEN = 512\n",
    "    NMEL = 64\n",
    "    \n",
    "    mel_spectogram = torchaudio.transforms.MelSpectrogram(\n",
    "        sample_rate= SAMPLE_RATE,\n",
    "        n_fft= NFFT,\n",
    "        hop_length= HLEN,\n",
    "        n_mels= NMEL)(signal)\n",
    "    \n",
    "    if sr != SAMPLE_RATE:\n",
    "        resampler = torchaudio.transforms.Resample(sr, 22050)\n",
    "        mel_spectogram = resampler(signal)\n",
    "    \n",
    "    if mel_spectogram.shape[0] > 1:\n",
    "        #mel_signal = torch.mean(mel_spectogram_resampled, dim=0, keepdim=True)\n",
    "        mel_spectogram = mel_spectogram.numpy()\n",
    "        mel_spectogram = np.mean(mel_spectogram, axis=0, keepdims=True)\n",
    "    \n",
    "    if mel_spectogram.shape[1] > NMEL:\n",
    "        mel_spectogram = mel_spectogram[:, :NMEL]\n",
    "    \n",
    "    class_mapping = [\n",
    "    \"Star Wars\",\n",
    "    \"Harry Potter\"\n",
    "    ]\n",
    "    \n",
    "    # PREDICT \n",
    "    prediction_index = model.predict(mel_spectogram.tolist())\n",
    "    prediction = class_mapping[prediction_index[0]]\n",
    "\n",
    "    #print(f\"Predicted: '{prediction}'\")\n",
    "    \n",
    "    lbl_pred.value = f\"Predicted: '{prediction}'\"\n",
    "    "
   ]
  },
  {
   "cell_type": "code",
   "execution_count": 80,
   "id": "1a93e4db",
   "metadata": {},
   "outputs": [],
   "source": [
    "btn_upload.observe(on_data_change, names=['data'])"
   ]
  },
  {
   "cell_type": "code",
   "execution_count": 81,
   "id": "76de20e2",
   "metadata": {},
   "outputs": [
    {
     "data": {
      "application/vnd.jupyter.widget-view+json": {
       "model_id": "fb3c63ecf9754d75abfd556e07f97388",
       "version_major": 2,
       "version_minor": 0
      },
      "text/plain": [
       "Label(value='Select the Audio File')"
      ]
     },
     "metadata": {},
     "output_type": "display_data"
    },
    {
     "data": {
      "application/vnd.jupyter.widget-view+json": {
       "model_id": "578d7429333548c89b209b2ca255ca36",
       "version_major": 2,
       "version_minor": 0
      },
      "text/plain": [
       "FileUpload(value={}, description='Upload')"
      ]
     },
     "metadata": {},
     "output_type": "display_data"
    },
    {
     "data": {
      "application/vnd.jupyter.widget-view+json": {
       "model_id": "c653f15663b549a7819a1e0edd00195c",
       "version_major": 2,
       "version_minor": 0
      },
      "text/plain": [
       "Output()"
      ]
     },
     "metadata": {},
     "output_type": "display_data"
    },
    {
     "data": {
      "application/vnd.jupyter.widget-view+json": {
       "model_id": "b624d5f2b4254d9c92c15981ce01f974",
       "version_major": 2,
       "version_minor": 0
      },
      "text/plain": [
       "Label(value='')"
      ]
     },
     "metadata": {},
     "output_type": "display_data"
    }
   ],
   "source": [
    "display(lbl_greet, btn_upload, out_pl, lbl_pred)"
   ]
  },
  {
   "cell_type": "code",
   "execution_count": null,
   "id": "e2719634",
   "metadata": {},
   "outputs": [],
   "source": []
  }
 ],
 "metadata": {
  "kernelspec": {
   "display_name": "Python 3",
   "language": "python",
   "name": "python3"
  },
  "language_info": {
   "codemirror_mode": {
    "name": "ipython",
    "version": 3
   },
   "file_extension": ".py",
   "mimetype": "text/x-python",
   "name": "python",
   "nbconvert_exporter": "python",
   "pygments_lexer": "ipython3",
   "version": "3.8.8"
  }
 },
 "nbformat": 4,
 "nbformat_minor": 5
}
