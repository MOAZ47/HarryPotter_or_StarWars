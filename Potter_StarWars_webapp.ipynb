{
 "cells": [
  {
   "cell_type": "code",
   "execution_count": 23,
   "id": "d119354b",
   "metadata": {},
   "outputs": [],
   "source": [
    "import xgboost\n",
    "from xgboost import XGBClassifier\n",
    "\n",
    "import numpy as np\n",
    "from numpy import loadtxt\n",
    "\n",
    "import librosa\n",
    "import io\n",
    "from ipywidgets import widgets"
   ]
  },
  {
   "cell_type": "code",
   "execution_count": 4,
   "id": "da2add17",
   "metadata": {},
   "outputs": [
    {
     "name": "stdout",
     "output_type": "stream",
     "text": [
      "[19:07:22] WARNING: C:/Users/Administrator/workspace/xgboost-win64_release_1.5.1/src/learner.cc:854: Loading model from XGBoost < 1.0.0, consider saving it again for improved compatibility\n"
     ]
    },
    {
     "name": "stderr",
     "output_type": "stream",
     "text": [
      "C:\\Users\\moazh\\anaconda3\\lib\\site-packages\\xgboost\\sklearn.py:604: UserWarning: Loading a native XGBoost model with Scikit-Learn interface.\n",
      "  warnings.warn(\n"
     ]
    }
   ],
   "source": [
    "model = XGBClassifier()\n",
    "model.load_model(\"XBG_model.pth\")"
   ]
  },
  {
   "cell_type": "markdown",
   "id": "49741e51",
   "metadata": {},
   "source": [
    "<h1>Harry Potter or Star Wars"
   ]
  },
  {
   "cell_type": "markdown",
   "id": "5e731d66",
   "metadata": {},
   "source": [
    "This web app based on machine learning is created to the classify a hymn/sound/tune either as \"Harry Potter\" or \"Star Wars\". To do so, click the upload button below, and select the the audio file. "
   ]
  },
  {
   "cell_type": "code",
   "execution_count": 55,
   "id": "36c6ef51",
   "metadata": {},
   "outputs": [],
   "source": [
    "lbl_greet = widgets.Label('Select the Audio File')\n",
    "\n",
    "btn_upload = widgets.FileUpload()\n",
    "\n",
    "out_pl = widgets.Output()\n",
    "\n",
    "lbl_pred = widgets.Label()"
   ]
  },
  {
   "cell_type": "code",
   "execution_count": 56,
   "id": "f72f900b",
   "metadata": {},
   "outputs": [],
   "source": [
    "def on_data_change(change):\n",
    "    lbl_pred.value = ''\n",
    "    \n",
    "    \n",
    "    for name, file_info in btn_upload.value.items():\n",
    "        audio, sample_rate = librosa.load(io.BytesIO(file_info['content']), res_type='kaiser_fast')\n",
    "    #print('Uploaded audio')\n",
    "    def mfcc_extractor(file_, sample_rate):\n",
    "        mfccs_features = librosa.feature.mfcc(y=file_, sr=sample_rate, n_mfcc=64)\n",
    "        mfccs_scaled_features = np.mean(mfccs_features.T,axis=0)\n",
    "        return mfccs_scaled_features\n",
    "        \n",
    "    \n",
    "    out_pl.clear_output()\n",
    "    \n",
    "    class_mapping = [\n",
    "    \"Star Wars\",\n",
    "    \"Harry Potter\"\n",
    "    ]\n",
    "\n",
    "    test_audio = mfcc_extractor(audio, sample_rate)\n",
    "    test_audio.shape = -1,64\n",
    "\n",
    "    # PREDICT \n",
    "    prediction_index = model.predict(np.array(test_audio.tolist()))\n",
    "    prediction = class_mapping[prediction_index[0]]\n",
    "\n",
    "    #print(f\"Predicted: '{prediction}'\")\n",
    "    \n",
    "    lbl_pred.value = f\"Predicted: '{prediction}'\"\n",
    "    "
   ]
  },
  {
   "cell_type": "code",
   "execution_count": 57,
   "id": "1a93e4db",
   "metadata": {},
   "outputs": [],
   "source": [
    "btn_upload.observe(on_data_change, names=['data'])"
   ]
  },
  {
   "cell_type": "code",
   "execution_count": 58,
   "id": "76de20e2",
   "metadata": {},
   "outputs": [
    {
     "data": {
      "application/vnd.jupyter.widget-view+json": {
       "model_id": "625d6992c9aa4d20a4e94ba39a325adc",
       "version_major": 2,
       "version_minor": 0
      },
      "text/plain": [
       "Label(value='Select the Audio File')"
      ]
     },
     "metadata": {},
     "output_type": "display_data"
    },
    {
     "data": {
      "application/vnd.jupyter.widget-view+json": {
       "model_id": "043e60120e974af68023ae4d7af60ccf",
       "version_major": 2,
       "version_minor": 0
      },
      "text/plain": [
       "FileUpload(value={}, description='Upload')"
      ]
     },
     "metadata": {},
     "output_type": "display_data"
    },
    {
     "data": {
      "application/vnd.jupyter.widget-view+json": {
       "model_id": "620fb075c11f4ee0af7f94661e820fc5",
       "version_major": 2,
       "version_minor": 0
      },
      "text/plain": [
       "Output()"
      ]
     },
     "metadata": {},
     "output_type": "display_data"
    },
    {
     "data": {
      "application/vnd.jupyter.widget-view+json": {
       "model_id": "289a01c187c44d6c8b6a708b705664a4",
       "version_major": 2,
       "version_minor": 0
      },
      "text/plain": [
       "Label(value='')"
      ]
     },
     "metadata": {},
     "output_type": "display_data"
    }
   ],
   "source": [
    "display(lbl_greet, btn_upload, out_pl, lbl_pred)"
   ]
  },
  {
   "cell_type": "code",
   "execution_count": null,
   "id": "c3c4b7e8",
   "metadata": {},
   "outputs": [],
   "source": []
  }
 ],
 "metadata": {
  "kernelspec": {
   "display_name": "Python 3",
   "language": "python",
   "name": "python3"
  },
  "language_info": {
   "codemirror_mode": {
    "name": "ipython",
    "version": 3
   },
   "file_extension": ".py",
   "mimetype": "text/x-python",
   "name": "python",
   "nbconvert_exporter": "python",
   "pygments_lexer": "ipython3",
   "version": "3.8.8"
  }
 },
 "nbformat": 4,
 "nbformat_minor": 5
}
