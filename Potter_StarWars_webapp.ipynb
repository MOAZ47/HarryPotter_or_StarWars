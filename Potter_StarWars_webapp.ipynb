{
 "cells": [
  {
   "cell_type": "code",
   "execution_count": 1,
   "id": "d119354b",
   "metadata": {},
   "outputs": [],
   "source": [
    "import xgboost \n",
    "from xgboost import XGBClassifier\n",
    "import numpy as np\n",
    "import librosa\n",
    "import io\n",
    "from ipywidgets import widgets"
   ]
  },
  {
   "cell_type": "code",
   "execution_count": 2,
   "id": "da2add17",
   "metadata": {},
   "outputs": [],
   "source": [
    "model = XGBClassifier()\n",
    "model.load_model(\"Audio_XBG_model.pth\")"
   ]
  },
  {
   "cell_type": "markdown",
   "id": "49741e51",
   "metadata": {},
   "source": [
    "<h1><center>Harry Potter or Star Wars"
   ]
  },
  {
   "cell_type": "markdown",
   "id": "5e731d66",
   "metadata": {},
   "source": [
    "This web app based on machine learning is created to the classify a tune either as \"Harry Potter\" or \"Star Wars\". To do so, click the upload button below, and select the the audio file. "
   ]
  },
  {
   "cell_type": "code",
   "execution_count": 3,
   "id": "36c6ef51",
   "metadata": {},
   "outputs": [],
   "source": [
    "lbl_greet = widgets.Label('Select the Audio File')\n",
    "\n",
    "btn_upload = widgets.FileUpload()\n",
    "\n",
    "out_pl = widgets.Output()\n",
    "\n",
    "lbl_pred = widgets.Label()"
   ]
  },
  {
   "cell_type": "code",
   "execution_count": 4,
   "id": "f72f900b",
   "metadata": {},
   "outputs": [],
   "source": [
    "def on_data_change(change):\n",
    "    lbl_pred.value = ''\n",
    "    \n",
    "    \n",
    "    for name, file_info in btn_upload.value.items():\n",
    "        audio, sample_rate = librosa.load(io.BytesIO(file_info['content']), res_type='kaiser_fast')\n",
    "    #print('Uploaded audio')\n",
    "    def mfcc_extractor(file_, sample_rate):\n",
    "        mfccs_features = librosa.feature.mfcc(y=file_, sr=sample_rate, n_mfcc=64)\n",
    "        mfccs_scaled_features = np.mean(mfccs_features.T,axis=0)\n",
    "        return mfccs_scaled_features\n",
    "        \n",
    "    \n",
    "    out_pl.clear_output()\n",
    "    \n",
    "    class_mapping = [\n",
    "    \"Star Wars\",\n",
    "    \"Harry Potter\"\n",
    "    ]\n",
    "\n",
    "    test_audio = mfcc_extractor(audio, sample_rate)\n",
    "    test_audio.shape = -1,64\n",
    "\n",
    "    # PREDICT \n",
    "    prediction_index = model.predict(np.array(test_audio.tolist()))\n",
    "    prediction = class_mapping[prediction_index[0]]\n",
    "\n",
    "    #print(f\"Predicted: '{prediction}'\")\n",
    "    \n",
    "    lbl_pred.value = f\"Predicted: '{prediction}'\"\n",
    "    "
   ]
  },
  {
   "cell_type": "code",
   "execution_count": 5,
   "id": "1a93e4db",
   "metadata": {},
   "outputs": [],
   "source": [
    "btn_upload.observe(on_data_change, names=['data'])"
   ]
  },
  {
   "cell_type": "code",
   "execution_count": 6,
   "id": "76de20e2",
   "metadata": {},
   "outputs": [
    {
     "data": {
      "application/vnd.jupyter.widget-view+json": {
       "model_id": "04462d480a8248c5bcd1356ba97a93d6",
       "version_major": 2,
       "version_minor": 0
      },
      "text/plain": [
       "Label(value='Select the Audio File')"
      ]
     },
     "metadata": {},
     "output_type": "display_data"
    },
    {
     "data": {
      "application/vnd.jupyter.widget-view+json": {
       "model_id": "73b972c7dbc8467ba31df9c9222fb285",
       "version_major": 2,
       "version_minor": 0
      },
      "text/plain": [
       "FileUpload(value={}, description='Upload')"
      ]
     },
     "metadata": {},
     "output_type": "display_data"
    },
    {
     "data": {
      "application/vnd.jupyter.widget-view+json": {
       "model_id": "e71d98d53dde4576977f8ccc3e272def",
       "version_major": 2,
       "version_minor": 0
      },
      "text/plain": [
       "Output()"
      ]
     },
     "metadata": {},
     "output_type": "display_data"
    },
    {
     "data": {
      "application/vnd.jupyter.widget-view+json": {
       "model_id": "9c760dbc0b0b46e3bb952f439b488866",
       "version_major": 2,
       "version_minor": 0
      },
      "text/plain": [
       "Label(value='')"
      ]
     },
     "metadata": {},
     "output_type": "display_data"
    }
   ],
   "source": [
    "display(lbl_greet, btn_upload, out_pl, lbl_pred)"
   ]
  }
 ],
 "metadata": {
  "kernelspec": {
   "display_name": "Python 3",
   "language": "python",
   "name": "python3"
  },
  "language_info": {
   "codemirror_mode": {
    "name": "ipython",
    "version": 3
   },
   "file_extension": ".py",
   "mimetype": "text/x-python",
   "name": "python",
   "nbconvert_exporter": "python",
   "pygments_lexer": "ipython3",
   "version": "3.8.8"
  }
 },
 "nbformat": 4,
 "nbformat_minor": 5
}
