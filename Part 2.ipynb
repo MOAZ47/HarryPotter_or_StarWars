{
 "cells": [
  {
   "cell_type": "markdown",
   "metadata": {},
   "source": [
    "# Part 2 \n",
    "Create a simple app that predicts the label Harry or StarWars when you hum to it. After deploying the app, share the link to show the output. \n",
    "\n",
    "•\tThe validation accuracy of the app is not as important, but how you justify the accuracy, and the method is more important.\n",
    "\n",
    "Conciseness in your writing (10%).\n",
    "Correctness in your methodology (30%).\n",
    "Correctness in your analysis and conclusions (30%).\n",
    "Completeness (10%).\n",
    "Originality (20%)."
   ]
  },
  {
   "cell_type": "markdown",
   "metadata": {
    "id": "o38VQkcdKd6k"
   },
   "source": [
    "# 2 Problem formulation\n",
    "\n",
    "Describe the machine learning problem that you want to solve and explain what's interesting about it.\n",
    "\n",
    "Building a classification model that takes in an audio file as an input, and predicts if the tune belongs to either 'Harry Potter' or 'Star Wars' category. The input audio file can be a person either humming or whistling the tune."
   ]
  },
  {
   "cell_type": "markdown",
   "metadata": {
    "id": "N3BwrtEdLDit"
   },
   "source": [
    "# 3 Machine Learning pipeline\n",
    "\n",
    "Describe your ML pipeline. Clearly identify its input and output, any intermediate stages (for instance, transformation -> models), and intermediate data moving from one stage to the next. Note that your pipeline does not need to include all the stages. \n",
    "\n",
    "The Pipeline can be summarised as- <br>\n",
    "Data collection --> Data Preprocessing --> Transformation --> Modelling "
   ]
  },
  {
   "cell_type": "markdown",
   "metadata": {
    "id": "j1nDXnzYLLH6"
   },
   "source": [
    "# 4 Transformation stage\n",
    "\n",
    "Describe any transformations, such as feature extraction. Identify input and output.\n",
    "\n",
    "The major transformation is the application of mel spectrogram on the audio file. After properly collecting the data into the dataframe, the input audio file is read, mel spectrogram is applied to it using the librosa librrary, and finally the transformed data is stored in the dataframe under the column 'MFCC'"
   ]
  },
  {
   "cell_type": "markdown",
   "metadata": {
    "id": "0F5_kI95LuZ2"
   },
   "source": [
    "# 5 Modelling\n",
    "\n",
    "Describe the ML models that you will implement. \n",
    "\n",
    "I use an XGBoost model for this problem. This model gave me the best result when compared with other ensemble techniques. Firstly, I find the right set of hyper-parameters using grid search cv. Then, using these set of parameters I train the XGBoost model. I save the trained model, to use it later for app building. "
   ]
  },
  {
   "cell_type": "markdown",
   "metadata": {
    "id": "bPTSuaB9L2jU"
   },
   "source": [
    "# 6 Methodology\n",
    "\n",
    "Describe how you will train and validate your models, how model performance is assesssed (i.e. accuracy, confusion matrix, etc)\n",
    "\n",
    "Off the entire data, 20 entries were set aside for testing purpose. From the remaining, using a 80:20 split, training and validation set were created. Since the data is not imbalanced, accuracy will be a good measure here."
   ]
  },
  {
   "cell_type": "markdown",
   "metadata": {
    "id": "HZQPxztuL9AW"
   },
   "source": [
    "# 7 Dataset\n",
    "\n",
    "Describe the dataset that you will use to create your models and validate them. If you need to preprocess it, do it here. Include visualisations too. You can visualise raw data samples or extracted features."
   ]
  },
  {
   "cell_type": "markdown",
   "metadata": {
    "id": "2qf7GN1aeXJI"
   },
   "source": [
    "# 8 Results\n",
    "\n",
    "Carry out your experiments here, explain your results.\n",
    "\n",
    "The model is not a perfect one, having only 62% accuracy. Furthermore, the precision and recall are also nearly equal to this value."
   ]
  },
  {
   "cell_type": "markdown",
   "metadata": {
    "id": "fSrJCR_cekPO"
   },
   "source": [
    "# 9 Conclusions\n",
    "\n",
    "Your conclusions, improvements, etc should go here\n",
    "\n",
    "The model can be improved by collecting more data. "
   ]
  },
  {
   "cell_type": "markdown",
   "metadata": {},
   "source": []
  }
 ],
 "metadata": {
  "colab": {
   "collapsed_sections": [],
   "name": "ECS7020P_miniproject_submission.ipynb",
   "provenance": []
  },
  "kernelspec": {
   "display_name": "Python 3",
   "language": "python",
   "name": "python3"
  },
  "language_info": {
   "codemirror_mode": {
    "name": "ipython",
    "version": 3
   },
   "file_extension": ".py",
   "mimetype": "text/x-python",
   "name": "python",
   "nbconvert_exporter": "python",
   "pygments_lexer": "ipython3",
   "version": "3.8.8"
  }
 },
 "nbformat": 4,
 "nbformat_minor": 1
}
