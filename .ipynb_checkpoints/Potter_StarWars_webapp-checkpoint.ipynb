{
 "cells": [
  {
   "cell_type": "code",
   "execution_count": null,
   "id": "20779e66",
   "metadata": {},
   "outputs": [],
   "source": [
    "from ipywidgets import widgets\n",
    "import io\n",
    "#import librosa\n",
    "import xgboost \n",
    "from xgboost import XGBClassifier\n",
    "#import numpy as np\n",
    "import torch, torchaudio\n",
    "import pickle"
   ]
  },
  {
   "cell_type": "code",
   "execution_count": null,
   "id": "da2add17",
   "metadata": {},
   "outputs": [],
   "source": [
    "model = XGBClassifier().load_model(\"Audio_XBG_model.pickle\")"
   ]
  },
  {
   "cell_type": "markdown",
   "id": "49741e51",
   "metadata": {},
   "source": [
    "<h1><center>Harry Potter or Star Wars"
   ]
  },
  {
   "cell_type": "markdown",
   "id": "5e731d66",
   "metadata": {},
   "source": [
    "This web app based on machine learning is created to the classify a tune either as \"Harry Potter\" or \"Star Wars\". To do so, click the upload button below, and select the the audio file. "
   ]
  },
  {
   "cell_type": "code",
   "execution_count": null,
   "id": "36c6ef51",
   "metadata": {},
   "outputs": [],
   "source": [
    "lbl_greet = widgets.Label('Select the Audio File')\n",
    "\n",
    "btn_upload = widgets.FileUpload()\n",
    "\n",
    "out_pl = widgets.Output()\n",
    "\n",
    "lbl_pred = widgets.Label()"
   ]
  },
  {
   "cell_type": "code",
   "execution_count": null,
   "id": "f72f900b",
   "metadata": {},
   "outputs": [],
   "source": [
    "def on_data_change(change):\n",
    "    lbl_pred.value = ''\n",
    "    \n",
    "    \n",
    "    for name, file_info in btn_upload.value.items():\n",
    "        #audio, sample_rate = librosa.load(io.BytesIO(file_info['content']), res_type='kaiser_fast')\n",
    "        signal, sr = torchaudio.load(io.BytesIO(file_info['content']))\n",
    "    \"\"\"\n",
    "    #print('Uploaded audio')\n",
    "    def mfcc_extractor(file_, sample_rate):\n",
    "        mfccs_features = librosa.feature.mfcc(y=file_, sr=sample_rate, n_mfcc=64)\n",
    "        mfccs_scaled_features = np.mean(mfccs_features.T,axis=0)\n",
    "        return mfccs_scaled_features\n",
    "    \n",
    "    test_audio = mfcc_extractor(audio, sample_rate)\n",
    "    test_audio.shape = -1,64\n",
    "    \"\"\"\n",
    "    \n",
    "    out_pl.clear_output()\n",
    "    \n",
    "    SAMPLE_RATE = 22050\n",
    "    NFFT = 1024\n",
    "    HLEN = 512\n",
    "    NMEL = 64\n",
    "    \n",
    "    mel_spectogram = torchaudio.transforms.MelSpectrogram(\n",
    "        sample_rate= SAMPLE_RATE,\n",
    "        n_fft= NFFT,\n",
    "        hop_length= HLEN,\n",
    "        n_mels= NMEL)(signal)\n",
    "    \n",
    "    if sr != SAMPLE_RATE:\n",
    "        resampler = torchaudio.transforms.Resample(sr, 22050)\n",
    "        mel_spectogram_resampled = resampler(signal)\n",
    "    \n",
    "    if mel_spectogram_resampled.shape[0] > 1:\n",
    "        mel_signal = torch.mean(mel_spectogram_resampled, dim=0, keepdim=True)\n",
    "    \n",
    "    if mel_signal.shape[1] > NMEL:\n",
    "        mel_signal = mel_signal[:, :NMEL]\n",
    "    \n",
    "    class_mapping = [\n",
    "    \"Star Wars\",\n",
    "    \"Harry Potter\"\n",
    "    ]\n",
    "    \n",
    "    # PREDICT \n",
    "    prediction_index = model.predict(mel_signal.tolist())\n",
    "    prediction = class_mapping[prediction_index[0]]\n",
    "\n",
    "    #print(f\"Predicted: '{prediction}'\")\n",
    "    \n",
    "    lbl_pred.value = f\"Predicted: '{prediction}'\"\n",
    "    "
   ]
  },
  {
   "cell_type": "code",
   "execution_count": null,
   "id": "1a93e4db",
   "metadata": {},
   "outputs": [],
   "source": [
    "btn_upload.observe(on_data_change, names=['data'])"
   ]
  },
  {
   "cell_type": "code",
   "execution_count": null,
   "id": "76de20e2",
   "metadata": {},
   "outputs": [],
   "source": [
    "display(lbl_greet, btn_upload, out_pl, lbl_pred)"
   ]
  }
 ],
 "metadata": {
  "kernelspec": {
   "display_name": "Python 3",
   "language": "python",
   "name": "python3"
  },
  "language_info": {
   "codemirror_mode": {
    "name": "ipython",
    "version": 3
   },
   "file_extension": ".py",
   "mimetype": "text/x-python",
   "name": "python",
   "nbconvert_exporter": "python",
   "pygments_lexer": "ipython3",
   "version": "3.8.8"
  }
 },
 "nbformat": 4,
 "nbformat_minor": 5
}
