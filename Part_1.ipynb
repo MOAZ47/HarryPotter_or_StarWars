{
  "cells": [
    {
      "cell_type": "markdown",
      "metadata": {
        "id": "8gq91Fuk5QT8"
      },
      "source": [
        "# Part 1 \n",
        "Build a machine learning pipeline that takes as an input a Potter or a StarWars audio segment and predicts its song label (either Harry or StarWars)\n",
        "\n",
        "•\tThe validation accuracy of the pipeline is not as important, but how you justify the accuracy, and the method is more important.\n",
        "\n",
        "Conciseness in your writing (10%).\n",
        "Correctness in your methodology (30%).\n",
        "Correctness in your analysis and conclusions (30%).\n",
        "Completeness (10%).\n",
        "Originality (20%)."
      ]
    },
    {
      "cell_type": "markdown",
      "metadata": {
        "id": "o38VQkcdKd6k"
      },
      "source": [
        "# 2 Problem formulation\n",
        "\n",
        "Describe the machine learning problem that you want to solve and explain what's interesting about it."
      ]
    },
    {
      "cell_type": "markdown",
      "metadata": {
        "id": "N3BwrtEdLDit"
      },
      "source": [
        "# 3 Machine Learning pipeline\n",
        "\n",
        "Describe your ML pipeline. Clearly identify its input and output, any intermediate stages (for instance, transformation -> models), and intermediate data moving from one stage to the next. Note that your pipeline does not need to include all the stages. "
      ]
    },
    {
      "cell_type": "markdown",
      "metadata": {
        "id": "j1nDXnzYLLH6"
      },
      "source": [
        "# 4 Transformation stage\n",
        "\n",
        "Describe any transformations, such as feature extraction. Identify input and output."
      ]
    },
    {
      "cell_type": "code",
      "source": [
        "import pandas as pd\n",
        "import numpy as np\n",
        "import librosa\n",
        "import librosa.display\n",
        "import matplotlib.pyplot as plt\n",
        "%matplotlib inline\n",
        "\n",
        "import os\n",
        "\n",
        "from sklearn.preprocessing import LabelEncoder, OneHotEncoder\n",
        "from sklearn.metrics import classification_report\n",
        "from sklearn.model_selection import train_test_split\n",
        "from sklearn.model_selection import GridSearchCV, StratifiedKFold\n",
        "from sklearn.pipeline import Pipeline\n",
        "\n",
        "import xgboost\n",
        "from xgboost import XGBClassifier"
      ],
      "metadata": {
        "id": "iJRoFwJv5f6o"
      },
      "execution_count": 22,
      "outputs": []
    },
    {
      "cell_type": "code",
      "source": [
        "dir = '/content/drive/MyDrive/Pytorch_Audio'\n",
        "\n",
        "potter1_dir = '/content/drive/MyDrive/Pytorch_Audio/Potter_1'\n",
        "potter2_dir = '/content/drive/MyDrive/Pytorch_Audio/Potter_2'\n",
        "\n",
        "star_wars1_dir = '/content/drive/MyDrive/Pytorch_Audio/StarWars_1'\n",
        "star_wars2_dir = '/content/drive/MyDrive/Pytorch_Audio/StarWars_2'"
      ],
      "metadata": {
        "id": "qAO2XN2Q51O7"
      },
      "execution_count": 3,
      "outputs": []
    },
    {
      "cell_type": "code",
      "source": [
        "potter1_list = os.listdir(potter1_dir)\n",
        "potter2_list = os.listdir(potter2_dir)\n",
        "\n",
        "star_wars1_list = os.listdir(star_wars1_dir)\n",
        "star_wars2_list = os.listdir(star_wars2_dir)"
      ],
      "metadata": {
        "id": "hFwOotR0569-"
      },
      "execution_count": 4,
      "outputs": []
    },
    {
      "cell_type": "code",
      "source": [
        "potter1_df = pd.DataFrame({'Name': potter1_list, 'Label': 'Potter', 'Folder': 'Potter_1'})\n",
        "potter2_df = pd.DataFrame({'Name': potter2_list, 'Label': 'Potter', 'Folder': 'Potter_2'})\n",
        "\n",
        "potter1_df['Path'] = potter1_df['Name'].apply(lambda x : potter1_dir +'/' + x)\n",
        "potter2_df['Path'] = potter2_df['Name'].apply(lambda x : potter2_dir +'/' + x)"
      ],
      "metadata": {
        "id": "YNtNybWj57qu"
      },
      "execution_count": 5,
      "outputs": []
    },
    {
      "cell_type": "code",
      "source": [
        "potter_df = pd.concat([potter1_df, potter2_df], join='inner')\n",
        "\n",
        "potter_df.reset_index(inplace=True)\n",
        "potter_df.drop(['index'], axis=1, inplace = True)\n",
        "\n",
        "def mfcc_extractor(file):\n",
        "  audio, sample_rate = librosa.load(file, res_type='kaiser_fast') \n",
        "  mfccs_features = librosa.feature.mfcc(audio, sr=sample_rate, n_mfcc=64)\n",
        "  mfccs_scaled_features = np.mean(mfccs_features.T,axis=0)\n",
        "  \n",
        "  return mfccs_scaled_features\n",
        "\n",
        "potter_df['MFCC'] = potter_df['Path'].apply(lambda x: mfcc_extractor(x))"
      ],
      "metadata": {
        "id": "C4jj4Qb-57yv"
      },
      "execution_count": 6,
      "outputs": []
    },
    {
      "cell_type": "code",
      "source": [
        "potter_df_train, potter_df_test = potter_df.iloc[:-20,:], potter_df.iloc[-20:,:]\n",
        "\n",
        "potter_df_train.shape, potter_df_test.shape"
      ],
      "metadata": {
        "colab": {
          "base_uri": "https://localhost:8080/"
        },
        "id": "Gh-5QI516CTz",
        "outputId": "7ac7950d-b66a-4ec1-85c4-2bdd3ddc525e"
      },
      "execution_count": 7,
      "outputs": [
        {
          "output_type": "execute_result",
          "data": {
            "text/plain": [
              "((397, 5), (20, 5))"
            ]
          },
          "metadata": {},
          "execution_count": 7
        }
      ]
    },
    {
      "cell_type": "code",
      "source": [
        "potter_df.head()"
      ],
      "metadata": {
        "colab": {
          "base_uri": "https://localhost:8080/",
          "height": 206
        },
        "id": "AQDjH52e7Mpk",
        "outputId": "6a506ef0-903a-41a2-f48e-8fe5e489e71f"
      },
      "execution_count": 8,
      "outputs": [
        {
          "output_type": "execute_result",
          "data": {
            "text/html": [
              "\n",
              "  <div id=\"df-2b3d0038-da9b-4c7b-b29b-fe9d628543be\">\n",
              "    <div class=\"colab-df-container\">\n",
              "      <div>\n",
              "<style scoped>\n",
              "    .dataframe tbody tr th:only-of-type {\n",
              "        vertical-align: middle;\n",
              "    }\n",
              "\n",
              "    .dataframe tbody tr th {\n",
              "        vertical-align: top;\n",
              "    }\n",
              "\n",
              "    .dataframe thead th {\n",
              "        text-align: right;\n",
              "    }\n",
              "</style>\n",
              "<table border=\"1\" class=\"dataframe\">\n",
              "  <thead>\n",
              "    <tr style=\"text-align: right;\">\n",
              "      <th></th>\n",
              "      <th>Name</th>\n",
              "      <th>Label</th>\n",
              "      <th>Folder</th>\n",
              "      <th>Path</th>\n",
              "      <th>MFCC</th>\n",
              "    </tr>\n",
              "  </thead>\n",
              "  <tbody>\n",
              "    <tr>\n",
              "      <th>0</th>\n",
              "      <td>S2_hum_2_Potter.wav</td>\n",
              "      <td>Potter</td>\n",
              "      <td>Potter_1</td>\n",
              "      <td>/content/drive/MyDrive/Pytorch_Audio/Potter_1/...</td>\n",
              "      <td>[-661.8584, 108.642815, 45.156384, 38.118088, ...</td>\n",
              "    </tr>\n",
              "    <tr>\n",
              "      <th>1</th>\n",
              "      <td>S3_hum_1_Potter.wav</td>\n",
              "      <td>Potter</td>\n",
              "      <td>Potter_1</td>\n",
              "      <td>/content/drive/MyDrive/Pytorch_Audio/Potter_1/...</td>\n",
              "      <td>[-346.7682, 136.55504, -0.26411316, 28.942776,...</td>\n",
              "    </tr>\n",
              "    <tr>\n",
              "      <th>2</th>\n",
              "      <td>S1_whistle_2_Potter.wav</td>\n",
              "      <td>Potter</td>\n",
              "      <td>Potter_1</td>\n",
              "      <td>/content/drive/MyDrive/Pytorch_Audio/Potter_1/...</td>\n",
              "      <td>[-559.3039, 109.55505, -44.322174, 30.625387, ...</td>\n",
              "    </tr>\n",
              "    <tr>\n",
              "      <th>3</th>\n",
              "      <td>S2_whistle_2_Potter.wav</td>\n",
              "      <td>Potter</td>\n",
              "      <td>Potter_1</td>\n",
              "      <td>/content/drive/MyDrive/Pytorch_Audio/Potter_1/...</td>\n",
              "      <td>[-693.1078, 68.701996, -20.831884, 8.191821, 2...</td>\n",
              "    </tr>\n",
              "    <tr>\n",
              "      <th>4</th>\n",
              "      <td>S1_hum_2_Potter.wav</td>\n",
              "      <td>Potter</td>\n",
              "      <td>Potter_1</td>\n",
              "      <td>/content/drive/MyDrive/Pytorch_Audio/Potter_1/...</td>\n",
              "      <td>[-570.3254, 165.23584, 11.886826, 28.466051, -...</td>\n",
              "    </tr>\n",
              "  </tbody>\n",
              "</table>\n",
              "</div>\n",
              "      <button class=\"colab-df-convert\" onclick=\"convertToInteractive('df-2b3d0038-da9b-4c7b-b29b-fe9d628543be')\"\n",
              "              title=\"Convert this dataframe to an interactive table.\"\n",
              "              style=\"display:none;\">\n",
              "        \n",
              "  <svg xmlns=\"http://www.w3.org/2000/svg\" height=\"24px\"viewBox=\"0 0 24 24\"\n",
              "       width=\"24px\">\n",
              "    <path d=\"M0 0h24v24H0V0z\" fill=\"none\"/>\n",
              "    <path d=\"M18.56 5.44l.94 2.06.94-2.06 2.06-.94-2.06-.94-.94-2.06-.94 2.06-2.06.94zm-11 1L8.5 8.5l.94-2.06 2.06-.94-2.06-.94L8.5 2.5l-.94 2.06-2.06.94zm10 10l.94 2.06.94-2.06 2.06-.94-2.06-.94-.94-2.06-.94 2.06-2.06.94z\"/><path d=\"M17.41 7.96l-1.37-1.37c-.4-.4-.92-.59-1.43-.59-.52 0-1.04.2-1.43.59L10.3 9.45l-7.72 7.72c-.78.78-.78 2.05 0 2.83L4 21.41c.39.39.9.59 1.41.59.51 0 1.02-.2 1.41-.59l7.78-7.78 2.81-2.81c.8-.78.8-2.07 0-2.86zM5.41 20L4 18.59l7.72-7.72 1.47 1.35L5.41 20z\"/>\n",
              "  </svg>\n",
              "      </button>\n",
              "      \n",
              "  <style>\n",
              "    .colab-df-container {\n",
              "      display:flex;\n",
              "      flex-wrap:wrap;\n",
              "      gap: 12px;\n",
              "    }\n",
              "\n",
              "    .colab-df-convert {\n",
              "      background-color: #E8F0FE;\n",
              "      border: none;\n",
              "      border-radius: 50%;\n",
              "      cursor: pointer;\n",
              "      display: none;\n",
              "      fill: #1967D2;\n",
              "      height: 32px;\n",
              "      padding: 0 0 0 0;\n",
              "      width: 32px;\n",
              "    }\n",
              "\n",
              "    .colab-df-convert:hover {\n",
              "      background-color: #E2EBFA;\n",
              "      box-shadow: 0px 1px 2px rgba(60, 64, 67, 0.3), 0px 1px 3px 1px rgba(60, 64, 67, 0.15);\n",
              "      fill: #174EA6;\n",
              "    }\n",
              "\n",
              "    [theme=dark] .colab-df-convert {\n",
              "      background-color: #3B4455;\n",
              "      fill: #D2E3FC;\n",
              "    }\n",
              "\n",
              "    [theme=dark] .colab-df-convert:hover {\n",
              "      background-color: #434B5C;\n",
              "      box-shadow: 0px 1px 3px 1px rgba(0, 0, 0, 0.15);\n",
              "      filter: drop-shadow(0px 1px 2px rgba(0, 0, 0, 0.3));\n",
              "      fill: #FFFFFF;\n",
              "    }\n",
              "  </style>\n",
              "\n",
              "      <script>\n",
              "        const buttonEl =\n",
              "          document.querySelector('#df-2b3d0038-da9b-4c7b-b29b-fe9d628543be button.colab-df-convert');\n",
              "        buttonEl.style.display =\n",
              "          google.colab.kernel.accessAllowed ? 'block' : 'none';\n",
              "\n",
              "        async function convertToInteractive(key) {\n",
              "          const element = document.querySelector('#df-2b3d0038-da9b-4c7b-b29b-fe9d628543be');\n",
              "          const dataTable =\n",
              "            await google.colab.kernel.invokeFunction('convertToInteractive',\n",
              "                                                     [key], {});\n",
              "          if (!dataTable) return;\n",
              "\n",
              "          const docLinkHtml = 'Like what you see? Visit the ' +\n",
              "            '<a target=\"_blank\" href=https://colab.research.google.com/notebooks/data_table.ipynb>data table notebook</a>'\n",
              "            + ' to learn more about interactive tables.';\n",
              "          element.innerHTML = '';\n",
              "          dataTable['output_type'] = 'display_data';\n",
              "          await google.colab.output.renderOutput(dataTable, element);\n",
              "          const docLink = document.createElement('div');\n",
              "          docLink.innerHTML = docLinkHtml;\n",
              "          element.appendChild(docLink);\n",
              "        }\n",
              "      </script>\n",
              "    </div>\n",
              "  </div>\n",
              "  "
            ],
            "text/plain": [
              "                      Name  ...                                               MFCC\n",
              "0      S2_hum_2_Potter.wav  ...  [-661.8584, 108.642815, 45.156384, 38.118088, ...\n",
              "1      S3_hum_1_Potter.wav  ...  [-346.7682, 136.55504, -0.26411316, 28.942776,...\n",
              "2  S1_whistle_2_Potter.wav  ...  [-559.3039, 109.55505, -44.322174, 30.625387, ...\n",
              "3  S2_whistle_2_Potter.wav  ...  [-693.1078, 68.701996, -20.831884, 8.191821, 2...\n",
              "4      S1_hum_2_Potter.wav  ...  [-570.3254, 165.23584, 11.886826, 28.466051, -...\n",
              "\n",
              "[5 rows x 5 columns]"
            ]
          },
          "metadata": {},
          "execution_count": 8
        }
      ]
    },
    {
      "cell_type": "code",
      "source": [
        "star_wars1_df = pd.DataFrame({'Name': star_wars1_list, 'Label': 'Star Wars', 'Folder': 'StarWars_1'})\n",
        "star_wars2_df = pd.DataFrame({'Name': star_wars2_list, 'Label': 'Star Wars', 'Folder': 'StarWars_2'})\n",
        "\n",
        "star_wars1_df['Path'] = star_wars1_df['Name'].apply(lambda x : star_wars1_dir +'/' + x)\n",
        "star_wars2_df['Path'] = star_wars2_df['Name'].apply(lambda x : star_wars2_dir +'/' + x)"
      ],
      "metadata": {
        "id": "mvKDKgjZ7OZ5"
      },
      "execution_count": 9,
      "outputs": []
    },
    {
      "cell_type": "code",
      "source": [
        "star_wars_df = pd.concat([star_wars1_df, star_wars2_df], join='inner')\n",
        "\n",
        "star_wars_df.reset_index(inplace=True)\n",
        "star_wars_df.drop(['index'], axis=1, inplace = True)\n",
        "\n",
        "def mfcc_extractor(file_):\n",
        "  audio, sample_rate = librosa.load(file_, res_type='kaiser_fast') \n",
        "  mfccs_features = librosa.feature.mfcc(y=audio, sr=sample_rate, n_mfcc=64)\n",
        "  mfccs_scaled_features = np.mean(mfccs_features.T,axis=0)\n",
        "  \n",
        "  return mfccs_scaled_features\n",
        "\n",
        "star_wars_df['MFCC'] = star_wars_df['Path'].apply(lambda x: mfcc_extractor(x))"
      ],
      "metadata": {
        "id": "BGVZJm7I7QmA"
      },
      "execution_count": 10,
      "outputs": []
    },
    {
      "cell_type": "code",
      "source": [
        "star_wars_df_train, star_wars_df_test = star_wars_df.iloc[:-20,:], star_wars_df.iloc[-20:,:]\n",
        "\n",
        "star_wars_df_train.shape, star_wars_df_test.shape"
      ],
      "metadata": {
        "colab": {
          "base_uri": "https://localhost:8080/"
        },
        "id": "uf0EFRgm7TBT",
        "outputId": "afaf5361-b0ae-49d5-dc19-021d182df9e3"
      },
      "execution_count": 11,
      "outputs": [
        {
          "output_type": "execute_result",
          "data": {
            "text/plain": [
              "((397, 5), (20, 5))"
            ]
          },
          "metadata": {},
          "execution_count": 11
        }
      ]
    },
    {
      "cell_type": "code",
      "source": [
        "star_wars_df.head()"
      ],
      "metadata": {
        "colab": {
          "base_uri": "https://localhost:8080/",
          "height": 206
        },
        "id": "eeheo8hA7o_i",
        "outputId": "21f7080c-4ac5-47ce-b9a5-d70cd4623a39"
      },
      "execution_count": 12,
      "outputs": [
        {
          "output_type": "execute_result",
          "data": {
            "text/html": [
              "\n",
              "  <div id=\"df-b09dbbea-0303-4437-8918-a0a6c4910748\">\n",
              "    <div class=\"colab-df-container\">\n",
              "      <div>\n",
              "<style scoped>\n",
              "    .dataframe tbody tr th:only-of-type {\n",
              "        vertical-align: middle;\n",
              "    }\n",
              "\n",
              "    .dataframe tbody tr th {\n",
              "        vertical-align: top;\n",
              "    }\n",
              "\n",
              "    .dataframe thead th {\n",
              "        text-align: right;\n",
              "    }\n",
              "</style>\n",
              "<table border=\"1\" class=\"dataframe\">\n",
              "  <thead>\n",
              "    <tr style=\"text-align: right;\">\n",
              "      <th></th>\n",
              "      <th>Name</th>\n",
              "      <th>Label</th>\n",
              "      <th>Folder</th>\n",
              "      <th>Path</th>\n",
              "      <th>MFCC</th>\n",
              "    </tr>\n",
              "  </thead>\n",
              "  <tbody>\n",
              "    <tr>\n",
              "      <th>0</th>\n",
              "      <td>S1_hum_2_StarWars.wav</td>\n",
              "      <td>Star Wars</td>\n",
              "      <td>StarWars_1</td>\n",
              "      <td>/content/drive/MyDrive/Pytorch_Audio/StarWars_...</td>\n",
              "      <td>[-508.2717, 166.03279, -4.6776953, 17.328432, ...</td>\n",
              "    </tr>\n",
              "    <tr>\n",
              "      <th>1</th>\n",
              "      <td>S3_hum_4_StarWars.wav</td>\n",
              "      <td>Star Wars</td>\n",
              "      <td>StarWars_1</td>\n",
              "      <td>/content/drive/MyDrive/Pytorch_Audio/StarWars_...</td>\n",
              "      <td>[-262.82635, 144.29163, -36.616604, -1.0275717...</td>\n",
              "    </tr>\n",
              "    <tr>\n",
              "      <th>2</th>\n",
              "      <td>S4_hum_4_StarWars.wav</td>\n",
              "      <td>Star Wars</td>\n",
              "      <td>StarWars_1</td>\n",
              "      <td>/content/drive/MyDrive/Pytorch_Audio/StarWars_...</td>\n",
              "      <td>[-395.11832, 96.01256, -5.4954414, -14.451133,...</td>\n",
              "    </tr>\n",
              "    <tr>\n",
              "      <th>3</th>\n",
              "      <td>S3_hum_3_StarWars.wav</td>\n",
              "      <td>Star Wars</td>\n",
              "      <td>StarWars_1</td>\n",
              "      <td>/content/drive/MyDrive/Pytorch_Audio/StarWars_...</td>\n",
              "      <td>[-277.7894, 140.88435, -17.97525, -4.7927794, ...</td>\n",
              "    </tr>\n",
              "    <tr>\n",
              "      <th>4</th>\n",
              "      <td>S4_hum_3_StarWars.wav</td>\n",
              "      <td>Star Wars</td>\n",
              "      <td>StarWars_1</td>\n",
              "      <td>/content/drive/MyDrive/Pytorch_Audio/StarWars_...</td>\n",
              "      <td>[-389.81763, 97.17954, -12.334502, -16.95927, ...</td>\n",
              "    </tr>\n",
              "  </tbody>\n",
              "</table>\n",
              "</div>\n",
              "      <button class=\"colab-df-convert\" onclick=\"convertToInteractive('df-b09dbbea-0303-4437-8918-a0a6c4910748')\"\n",
              "              title=\"Convert this dataframe to an interactive table.\"\n",
              "              style=\"display:none;\">\n",
              "        \n",
              "  <svg xmlns=\"http://www.w3.org/2000/svg\" height=\"24px\"viewBox=\"0 0 24 24\"\n",
              "       width=\"24px\">\n",
              "    <path d=\"M0 0h24v24H0V0z\" fill=\"none\"/>\n",
              "    <path d=\"M18.56 5.44l.94 2.06.94-2.06 2.06-.94-2.06-.94-.94-2.06-.94 2.06-2.06.94zm-11 1L8.5 8.5l.94-2.06 2.06-.94-2.06-.94L8.5 2.5l-.94 2.06-2.06.94zm10 10l.94 2.06.94-2.06 2.06-.94-2.06-.94-.94-2.06-.94 2.06-2.06.94z\"/><path d=\"M17.41 7.96l-1.37-1.37c-.4-.4-.92-.59-1.43-.59-.52 0-1.04.2-1.43.59L10.3 9.45l-7.72 7.72c-.78.78-.78 2.05 0 2.83L4 21.41c.39.39.9.59 1.41.59.51 0 1.02-.2 1.41-.59l7.78-7.78 2.81-2.81c.8-.78.8-2.07 0-2.86zM5.41 20L4 18.59l7.72-7.72 1.47 1.35L5.41 20z\"/>\n",
              "  </svg>\n",
              "      </button>\n",
              "      \n",
              "  <style>\n",
              "    .colab-df-container {\n",
              "      display:flex;\n",
              "      flex-wrap:wrap;\n",
              "      gap: 12px;\n",
              "    }\n",
              "\n",
              "    .colab-df-convert {\n",
              "      background-color: #E8F0FE;\n",
              "      border: none;\n",
              "      border-radius: 50%;\n",
              "      cursor: pointer;\n",
              "      display: none;\n",
              "      fill: #1967D2;\n",
              "      height: 32px;\n",
              "      padding: 0 0 0 0;\n",
              "      width: 32px;\n",
              "    }\n",
              "\n",
              "    .colab-df-convert:hover {\n",
              "      background-color: #E2EBFA;\n",
              "      box-shadow: 0px 1px 2px rgba(60, 64, 67, 0.3), 0px 1px 3px 1px rgba(60, 64, 67, 0.15);\n",
              "      fill: #174EA6;\n",
              "    }\n",
              "\n",
              "    [theme=dark] .colab-df-convert {\n",
              "      background-color: #3B4455;\n",
              "      fill: #D2E3FC;\n",
              "    }\n",
              "\n",
              "    [theme=dark] .colab-df-convert:hover {\n",
              "      background-color: #434B5C;\n",
              "      box-shadow: 0px 1px 3px 1px rgba(0, 0, 0, 0.15);\n",
              "      filter: drop-shadow(0px 1px 2px rgba(0, 0, 0, 0.3));\n",
              "      fill: #FFFFFF;\n",
              "    }\n",
              "  </style>\n",
              "\n",
              "      <script>\n",
              "        const buttonEl =\n",
              "          document.querySelector('#df-b09dbbea-0303-4437-8918-a0a6c4910748 button.colab-df-convert');\n",
              "        buttonEl.style.display =\n",
              "          google.colab.kernel.accessAllowed ? 'block' : 'none';\n",
              "\n",
              "        async function convertToInteractive(key) {\n",
              "          const element = document.querySelector('#df-b09dbbea-0303-4437-8918-a0a6c4910748');\n",
              "          const dataTable =\n",
              "            await google.colab.kernel.invokeFunction('convertToInteractive',\n",
              "                                                     [key], {});\n",
              "          if (!dataTable) return;\n",
              "\n",
              "          const docLinkHtml = 'Like what you see? Visit the ' +\n",
              "            '<a target=\"_blank\" href=https://colab.research.google.com/notebooks/data_table.ipynb>data table notebook</a>'\n",
              "            + ' to learn more about interactive tables.';\n",
              "          element.innerHTML = '';\n",
              "          dataTable['output_type'] = 'display_data';\n",
              "          await google.colab.output.renderOutput(dataTable, element);\n",
              "          const docLink = document.createElement('div');\n",
              "          docLink.innerHTML = docLinkHtml;\n",
              "          element.appendChild(docLink);\n",
              "        }\n",
              "      </script>\n",
              "    </div>\n",
              "  </div>\n",
              "  "
            ],
            "text/plain": [
              "                    Name  ...                                               MFCC\n",
              "0  S1_hum_2_StarWars.wav  ...  [-508.2717, 166.03279, -4.6776953, 17.328432, ...\n",
              "1  S3_hum_4_StarWars.wav  ...  [-262.82635, 144.29163, -36.616604, -1.0275717...\n",
              "2  S4_hum_4_StarWars.wav  ...  [-395.11832, 96.01256, -5.4954414, -14.451133,...\n",
              "3  S3_hum_3_StarWars.wav  ...  [-277.7894, 140.88435, -17.97525, -4.7927794, ...\n",
              "4  S4_hum_3_StarWars.wav  ...  [-389.81763, 97.17954, -12.334502, -16.95927, ...\n",
              "\n",
              "[5 rows x 5 columns]"
            ]
          },
          "metadata": {},
          "execution_count": 12
        }
      ]
    },
    {
      "cell_type": "code",
      "source": [
        "df_train = pd.concat([potter_df_train, star_wars_df_train], join='inner')\n",
        "\n",
        "df_train.reset_index(inplace=True)\n",
        "df_train.drop(['index'], axis=1, inplace = True)\n",
        "\n",
        "df_train['Encoded Label'] = df_train['Label'].apply(lambda x: 1 if x == 'Potter' else 0)"
      ],
      "metadata": {
        "id": "4bAO0qLI7pGy"
      },
      "execution_count": 13,
      "outputs": []
    },
    {
      "cell_type": "code",
      "source": [
        "df_train[['Label','Encoded Label']].value_counts()"
      ],
      "metadata": {
        "colab": {
          "base_uri": "https://localhost:8080/"
        },
        "id": "BKhrxSWn8pzN",
        "outputId": "d66020d8-1593-42b1-bffc-ff06c918b294"
      },
      "execution_count": 14,
      "outputs": [
        {
          "output_type": "execute_result",
          "data": {
            "text/plain": [
              "Label      Encoded Label\n",
              "Star Wars  0                397\n",
              "Potter     1                397\n",
              "dtype: int64"
            ]
          },
          "metadata": {},
          "execution_count": 14
        }
      ]
    },
    {
      "cell_type": "code",
      "source": [
        "df_train['Folder'].value_counts()"
      ],
      "metadata": {
        "colab": {
          "base_uri": "https://localhost:8080/"
        },
        "id": "uI0Y3iIZ8s94",
        "outputId": "6f435136-ce3a-463d-f002-fb37381c1e13"
      },
      "execution_count": 15,
      "outputs": [
        {
          "output_type": "execute_result",
          "data": {
            "text/plain": [
              "StarWars_1    210\n",
              "Potter_1      210\n",
              "Potter_2      187\n",
              "StarWars_2    187\n",
              "Name: Folder, dtype: int64"
            ]
          },
          "metadata": {},
          "execution_count": 15
        }
      ]
    },
    {
      "cell_type": "code",
      "source": [
        "df_test = pd.concat([potter_df_test, star_wars_df_test], join='inner')\n",
        "\n",
        "df_test.reset_index(inplace=True)\n",
        "df_test.drop(['index'], axis=1, inplace = True)\n",
        "\n",
        "df_test['Encoded Label'] = df_test['Label'].apply(lambda x: 1 if x == 'Potter' else 0)"
      ],
      "metadata": {
        "id": "2L4BWYAo8tAw"
      },
      "execution_count": 16,
      "outputs": []
    },
    {
      "cell_type": "code",
      "source": [
        "df_train.shape, df_test.shape"
      ],
      "metadata": {
        "colab": {
          "base_uri": "https://localhost:8080/"
        },
        "id": "GcWxpqbn8tD-",
        "outputId": "2de26153-4971-43b8-9a71-376d20332c41"
      },
      "execution_count": 17,
      "outputs": [
        {
          "output_type": "execute_result",
          "data": {
            "text/plain": [
              "((794, 6), (40, 6))"
            ]
          },
          "metadata": {},
          "execution_count": 17
        }
      ]
    },
    {
      "cell_type": "code",
      "source": [
        "df_train.head()"
      ],
      "metadata": {
        "colab": {
          "base_uri": "https://localhost:8080/",
          "height": 250
        },
        "id": "7n4mzLiD8yrp",
        "outputId": "acc1cc96-0837-48f7-93d0-d33a61d142ff"
      },
      "execution_count": 18,
      "outputs": [
        {
          "output_type": "execute_result",
          "data": {
            "text/html": [
              "\n",
              "  <div id=\"df-2ef60365-3422-42f0-8475-714e85603c09\">\n",
              "    <div class=\"colab-df-container\">\n",
              "      <div>\n",
              "<style scoped>\n",
              "    .dataframe tbody tr th:only-of-type {\n",
              "        vertical-align: middle;\n",
              "    }\n",
              "\n",
              "    .dataframe tbody tr th {\n",
              "        vertical-align: top;\n",
              "    }\n",
              "\n",
              "    .dataframe thead th {\n",
              "        text-align: right;\n",
              "    }\n",
              "</style>\n",
              "<table border=\"1\" class=\"dataframe\">\n",
              "  <thead>\n",
              "    <tr style=\"text-align: right;\">\n",
              "      <th></th>\n",
              "      <th>Name</th>\n",
              "      <th>Label</th>\n",
              "      <th>Folder</th>\n",
              "      <th>Path</th>\n",
              "      <th>MFCC</th>\n",
              "      <th>Encoded Label</th>\n",
              "    </tr>\n",
              "  </thead>\n",
              "  <tbody>\n",
              "    <tr>\n",
              "      <th>0</th>\n",
              "      <td>S2_hum_2_Potter.wav</td>\n",
              "      <td>Potter</td>\n",
              "      <td>Potter_1</td>\n",
              "      <td>/content/drive/MyDrive/Pytorch_Audio/Potter_1/...</td>\n",
              "      <td>[-661.8584, 108.642815, 45.156384, 38.118088, ...</td>\n",
              "      <td>1</td>\n",
              "    </tr>\n",
              "    <tr>\n",
              "      <th>1</th>\n",
              "      <td>S3_hum_1_Potter.wav</td>\n",
              "      <td>Potter</td>\n",
              "      <td>Potter_1</td>\n",
              "      <td>/content/drive/MyDrive/Pytorch_Audio/Potter_1/...</td>\n",
              "      <td>[-346.7682, 136.55504, -0.26411316, 28.942776,...</td>\n",
              "      <td>1</td>\n",
              "    </tr>\n",
              "    <tr>\n",
              "      <th>2</th>\n",
              "      <td>S1_whistle_2_Potter.wav</td>\n",
              "      <td>Potter</td>\n",
              "      <td>Potter_1</td>\n",
              "      <td>/content/drive/MyDrive/Pytorch_Audio/Potter_1/...</td>\n",
              "      <td>[-559.3039, 109.55505, -44.322174, 30.625387, ...</td>\n",
              "      <td>1</td>\n",
              "    </tr>\n",
              "    <tr>\n",
              "      <th>3</th>\n",
              "      <td>S2_whistle_2_Potter.wav</td>\n",
              "      <td>Potter</td>\n",
              "      <td>Potter_1</td>\n",
              "      <td>/content/drive/MyDrive/Pytorch_Audio/Potter_1/...</td>\n",
              "      <td>[-693.1078, 68.701996, -20.831884, 8.191821, 2...</td>\n",
              "      <td>1</td>\n",
              "    </tr>\n",
              "    <tr>\n",
              "      <th>4</th>\n",
              "      <td>S1_hum_2_Potter.wav</td>\n",
              "      <td>Potter</td>\n",
              "      <td>Potter_1</td>\n",
              "      <td>/content/drive/MyDrive/Pytorch_Audio/Potter_1/...</td>\n",
              "      <td>[-570.3254, 165.23584, 11.886826, 28.466051, -...</td>\n",
              "      <td>1</td>\n",
              "    </tr>\n",
              "  </tbody>\n",
              "</table>\n",
              "</div>\n",
              "      <button class=\"colab-df-convert\" onclick=\"convertToInteractive('df-2ef60365-3422-42f0-8475-714e85603c09')\"\n",
              "              title=\"Convert this dataframe to an interactive table.\"\n",
              "              style=\"display:none;\">\n",
              "        \n",
              "  <svg xmlns=\"http://www.w3.org/2000/svg\" height=\"24px\"viewBox=\"0 0 24 24\"\n",
              "       width=\"24px\">\n",
              "    <path d=\"M0 0h24v24H0V0z\" fill=\"none\"/>\n",
              "    <path d=\"M18.56 5.44l.94 2.06.94-2.06 2.06-.94-2.06-.94-.94-2.06-.94 2.06-2.06.94zm-11 1L8.5 8.5l.94-2.06 2.06-.94-2.06-.94L8.5 2.5l-.94 2.06-2.06.94zm10 10l.94 2.06.94-2.06 2.06-.94-2.06-.94-.94-2.06-.94 2.06-2.06.94z\"/><path d=\"M17.41 7.96l-1.37-1.37c-.4-.4-.92-.59-1.43-.59-.52 0-1.04.2-1.43.59L10.3 9.45l-7.72 7.72c-.78.78-.78 2.05 0 2.83L4 21.41c.39.39.9.59 1.41.59.51 0 1.02-.2 1.41-.59l7.78-7.78 2.81-2.81c.8-.78.8-2.07 0-2.86zM5.41 20L4 18.59l7.72-7.72 1.47 1.35L5.41 20z\"/>\n",
              "  </svg>\n",
              "      </button>\n",
              "      \n",
              "  <style>\n",
              "    .colab-df-container {\n",
              "      display:flex;\n",
              "      flex-wrap:wrap;\n",
              "      gap: 12px;\n",
              "    }\n",
              "\n",
              "    .colab-df-convert {\n",
              "      background-color: #E8F0FE;\n",
              "      border: none;\n",
              "      border-radius: 50%;\n",
              "      cursor: pointer;\n",
              "      display: none;\n",
              "      fill: #1967D2;\n",
              "      height: 32px;\n",
              "      padding: 0 0 0 0;\n",
              "      width: 32px;\n",
              "    }\n",
              "\n",
              "    .colab-df-convert:hover {\n",
              "      background-color: #E2EBFA;\n",
              "      box-shadow: 0px 1px 2px rgba(60, 64, 67, 0.3), 0px 1px 3px 1px rgba(60, 64, 67, 0.15);\n",
              "      fill: #174EA6;\n",
              "    }\n",
              "\n",
              "    [theme=dark] .colab-df-convert {\n",
              "      background-color: #3B4455;\n",
              "      fill: #D2E3FC;\n",
              "    }\n",
              "\n",
              "    [theme=dark] .colab-df-convert:hover {\n",
              "      background-color: #434B5C;\n",
              "      box-shadow: 0px 1px 3px 1px rgba(0, 0, 0, 0.15);\n",
              "      filter: drop-shadow(0px 1px 2px rgba(0, 0, 0, 0.3));\n",
              "      fill: #FFFFFF;\n",
              "    }\n",
              "  </style>\n",
              "\n",
              "      <script>\n",
              "        const buttonEl =\n",
              "          document.querySelector('#df-2ef60365-3422-42f0-8475-714e85603c09 button.colab-df-convert');\n",
              "        buttonEl.style.display =\n",
              "          google.colab.kernel.accessAllowed ? 'block' : 'none';\n",
              "\n",
              "        async function convertToInteractive(key) {\n",
              "          const element = document.querySelector('#df-2ef60365-3422-42f0-8475-714e85603c09');\n",
              "          const dataTable =\n",
              "            await google.colab.kernel.invokeFunction('convertToInteractive',\n",
              "                                                     [key], {});\n",
              "          if (!dataTable) return;\n",
              "\n",
              "          const docLinkHtml = 'Like what you see? Visit the ' +\n",
              "            '<a target=\"_blank\" href=https://colab.research.google.com/notebooks/data_table.ipynb>data table notebook</a>'\n",
              "            + ' to learn more about interactive tables.';\n",
              "          element.innerHTML = '';\n",
              "          dataTable['output_type'] = 'display_data';\n",
              "          await google.colab.output.renderOutput(dataTable, element);\n",
              "          const docLink = document.createElement('div');\n",
              "          docLink.innerHTML = docLinkHtml;\n",
              "          element.appendChild(docLink);\n",
              "        }\n",
              "      </script>\n",
              "    </div>\n",
              "  </div>\n",
              "  "
            ],
            "text/plain": [
              "                      Name  ... Encoded Label\n",
              "0      S2_hum_2_Potter.wav  ...             1\n",
              "1      S3_hum_1_Potter.wav  ...             1\n",
              "2  S1_whistle_2_Potter.wav  ...             1\n",
              "3  S2_whistle_2_Potter.wav  ...             1\n",
              "4      S1_hum_2_Potter.wav  ...             1\n",
              "\n",
              "[5 rows x 6 columns]"
            ]
          },
          "metadata": {},
          "execution_count": 18
        }
      ]
    },
    {
      "cell_type": "markdown",
      "metadata": {
        "id": "0F5_kI95LuZ2"
      },
      "source": [
        "# 5 Modelling\n",
        "\n",
        "Describe the ML models that you will implement. "
      ]
    },
    {
      "cell_type": "code",
      "source": [
        "X = np.array(df_train['MFCC'].tolist())\n",
        "y = np.array(df_train['Encoded Label'].tolist())"
      ],
      "metadata": {
        "id": "NI7uRbFB8_IC"
      },
      "execution_count": 26,
      "outputs": []
    },
    {
      "cell_type": "code",
      "source": [
        "X_train, X_val, y_train, y_val = train_test_split(X, y, test_size=0.2, random_state = 47)"
      ],
      "metadata": {
        "id": "kZV0gcB4-H1B"
      },
      "execution_count": 29,
      "outputs": []
    },
    {
      "cell_type": "code",
      "source": [
        "xgbc = XGBClassifier()\n",
        "\n",
        "parameters = {'learning_rate': [0.01, 0.03, 0.05, 0.07, 0.001], \n",
        "              'max_depth': [3, 4, 5, 6, 12, 24, 36],\n",
        "              'n_estimators': [5, 15, 25, 50, 100, 120],            # number of trees, change it to 1000 for better results\n",
        "              }\n",
        "\n",
        "xgb_gs = GridSearchCV(xgbc, parameters, n_jobs = -1,\n",
        "                      cv = StratifiedKFold(n_splits= 10, shuffle = True, random_state = 47), \n",
        "                      scoring ='accuracy',\n",
        "                      verbose = 2)"
      ],
      "metadata": {
        "id": "D557DJck-KSr"
      },
      "execution_count": 30,
      "outputs": []
    },
    {
      "cell_type": "code",
      "source": [
        "xgb_gs.fit(X_train, y_train)"
      ],
      "metadata": {
        "colab": {
          "base_uri": "https://localhost:8080/"
        },
        "id": "R_1eBs2f-KVk",
        "outputId": "7e931ea4-b446-4f72-e09b-df77da78e176"
      },
      "execution_count": 31,
      "outputs": [
        {
          "output_type": "stream",
          "name": "stdout",
          "text": [
            "Fitting 10 folds for each of 210 candidates, totalling 2100 fits\n"
          ]
        },
        {
          "output_type": "execute_result",
          "data": {
            "text/plain": [
              "GridSearchCV(cv=StratifiedKFold(n_splits=10, random_state=47, shuffle=True),\n",
              "             estimator=XGBClassifier(), n_jobs=-1,\n",
              "             param_grid={'learning_rate': [0.01, 0.03, 0.05, 0.07, 0.001],\n",
              "                         'max_depth': [3, 4, 5, 6, 12, 24, 36],\n",
              "                         'n_estimators': [5, 15, 25, 50, 100, 120]},\n",
              "             scoring='accuracy', verbose=2)"
            ]
          },
          "metadata": {},
          "execution_count": 31
        }
      ]
    },
    {
      "cell_type": "code",
      "source": [
        "xgb_gs.best_params_"
      ],
      "metadata": {
        "colab": {
          "base_uri": "https://localhost:8080/"
        },
        "id": "dyjOzeVM-KdW",
        "outputId": "8fa98786-7073-4dd2-f1fa-bc9ce4cfec1f"
      },
      "execution_count": 32,
      "outputs": [
        {
          "output_type": "execute_result",
          "data": {
            "text/plain": [
              "{'learning_rate': 0.07, 'max_depth': 3, 'n_estimators': 100}"
            ]
          },
          "metadata": {},
          "execution_count": 32
        }
      ]
    },
    {
      "cell_type": "code",
      "source": [
        "new_xgb = XGBClassifier(learning_rate= 0.07, max_depth= 3, n_estimators= 100)\n",
        "\n",
        "new_xgb.fit(X_train, y_train)\n",
        "\n",
        "preds = new_xgb.predict(X_val)"
      ],
      "metadata": {
        "id": "xnJrMrF1AaXj"
      },
      "execution_count": 33,
      "outputs": []
    },
    {
      "cell_type": "code",
      "source": [
        "print(classification_report(y_val, preds))"
      ],
      "metadata": {
        "colab": {
          "base_uri": "https://localhost:8080/"
        },
        "id": "QOnrje9fAf82",
        "outputId": "27b81e1d-12a5-48e7-f1a5-3efe59165a30"
      },
      "execution_count": 34,
      "outputs": [
        {
          "output_type": "stream",
          "name": "stdout",
          "text": [
            "              precision    recall  f1-score   support\n",
            "\n",
            "           0       0.62      0.59      0.61        78\n",
            "           1       0.62      0.65      0.64        81\n",
            "\n",
            "    accuracy                           0.62       159\n",
            "   macro avg       0.62      0.62      0.62       159\n",
            "weighted avg       0.62      0.62      0.62       159\n",
            "\n"
          ]
        }
      ]
    },
    {
      "cell_type": "code",
      "source": [
        "# new_xgb.save_model(\"XBG_model.pth\")"
      ],
      "metadata": {
        "id": "zMre7ZehAixU"
      },
      "execution_count": null,
      "outputs": []
    },
    {
      "cell_type": "code",
      "source": [
        "class_mapping = [\n",
        "    \"Star Wars\",\n",
        "    \"Potter\"\n",
        "]\n",
        "\n",
        "index = 0\n",
        "\n",
        "test_mfcc = mfcc_extractor(df_test['Path'][index])\n",
        "test_mfcc.shape = -1,64\n",
        "\n",
        "prediction_index = new_xgb.predict(np.array(test_mfcc.tolist()))\n",
        "prediction = class_mapping[prediction_index[0]]\n",
        "expected = df_test['Label'][index]\n",
        "\n",
        "print(f\"Predicted: '{prediction}', expected: '{expected}'\")"
      ],
      "metadata": {
        "colab": {
          "base_uri": "https://localhost:8080/"
        },
        "id": "i8CUkM3mAk7A",
        "outputId": "fa956fd4-a742-4063-c2a8-4b3c8658caa8"
      },
      "execution_count": 39,
      "outputs": [
        {
          "output_type": "stream",
          "name": "stdout",
          "text": [
            "Predicted: 'Potter', expected: 'Potter'\n"
          ]
        }
      ]
    },
    {
      "cell_type": "markdown",
      "metadata": {
        "id": "bPTSuaB9L2jU"
      },
      "source": [
        "# 6 Methodology\n",
        "\n",
        "Describe how you will train and validate your models, how model performance is assesssed (i.e. accuracy, confusion matrix, etc)"
      ]
    },
    {
      "cell_type": "markdown",
      "metadata": {
        "id": "HZQPxztuL9AW"
      },
      "source": [
        "# 7 Dataset\n",
        "\n",
        "Describe the dataset that you will use to create your models and validate them. If you need to preprocess it, do it here. Include visualisations too. You can visualise raw data samples or extracted features."
      ]
    },
    {
      "cell_type": "markdown",
      "metadata": {
        "id": "2qf7GN1aeXJI"
      },
      "source": [
        "# 8 Results\n",
        "\n",
        "Carry out your experiments here, explain your results."
      ]
    },
    {
      "cell_type": "markdown",
      "metadata": {
        "id": "fSrJCR_cekPO"
      },
      "source": [
        "# 9 Conclusions\n",
        "\n",
        "Your conclusions, improvements, etc should go here"
      ]
    }
  ],
  "metadata": {
    "colab": {
      "collapsed_sections": [],
      "name": "Part 1.ipynb",
      "provenance": []
    },
    "kernelspec": {
      "display_name": "Python 3",
      "language": "python",
      "name": "python3"
    },
    "language_info": {
      "codemirror_mode": {
        "name": "ipython",
        "version": 3
      },
      "file_extension": ".py",
      "mimetype": "text/x-python",
      "name": "python",
      "nbconvert_exporter": "python",
      "pygments_lexer": "ipython3",
      "version": "3.8.8"
    },
    "accelerator": "GPU"
  },
  "nbformat": 4,
  "nbformat_minor": 0
}